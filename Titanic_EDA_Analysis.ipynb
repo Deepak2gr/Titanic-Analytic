{
 "cells": [
  {
   "cell_type": "markdown",
   "id": "31ffe995",
   "metadata": {},
   "source": [
    "# Titanic Survival Analysis 🚢"
   ]
  },
  {
   "cell_type": "markdown",
   "id": "eb038337",
   "metadata": {},
   "source": [
    "### Objective: Perform EDA & Predictive Analysis"
   ]
  },
  {
   "cell_type": "code",
   "execution_count": null,
   "id": "fbf3b49d",
   "metadata": {},
   "outputs": [],
   "source": [
    "\n",
    "import pandas as pd\n",
    "import matplotlib.pyplot as plt\n",
    "import seaborn as sns\n",
    "from sklearn.ensemble import RandomForestClassifier\n",
    "from sklearn.preprocessing import LabelEncoder\n",
    "\n",
    "# Load Titanic dataset\n",
    "file_path = \"Titanic_Data_Set.xlsx\"\n",
    "df = pd.read_excel(file_path, sheet_name=\"Sheet1\")\n",
    "\n",
    "# Display first few rows\n",
    "df.head()\n"
   ]
  },
  {
   "cell_type": "markdown",
   "id": "9310b0e3",
   "metadata": {},
   "source": [
    "### Checking Missing Values & Summary Statistics"
   ]
  },
  {
   "cell_type": "code",
   "execution_count": null,
   "id": "64b59940",
   "metadata": {},
   "outputs": [],
   "source": [
    "\n",
    "# Check missing values\n",
    "df.isnull().sum()\n"
   ]
  },
  {
   "cell_type": "code",
   "execution_count": null,
   "id": "bcfe8cc9",
   "metadata": {},
   "outputs": [],
   "source": [
    "\n",
    "# Summary statistics\n",
    "df.describe()\n"
   ]
  },
  {
   "cell_type": "markdown",
   "id": "d77793c2",
   "metadata": {},
   "source": [
    "### Data Cleaning"
   ]
  },
  {
   "cell_type": "code",
   "execution_count": null,
   "id": "555e3cb1",
   "metadata": {},
   "outputs": [],
   "source": [
    "\n",
    "# Fill missing Age values with the median\n",
    "df[\"Age\"].fillna(df[\"Age\"].median(), inplace=True)\n",
    "\n",
    "# Fill missing Fare value with the median\n",
    "df[\"Fare\"].fillna(df[\"Fare\"].median(), inplace=True)\n",
    "\n",
    "# Drop Cabin column due to too many missing values\n",
    "df.drop(columns=[\"Cabin\"], inplace=True)\n",
    "\n",
    "df.head()\n"
   ]
  },
  {
   "cell_type": "markdown",
   "id": "e5a7a65f",
   "metadata": {},
   "source": [
    "### Visualizing Survival Rate by Gender"
   ]
  },
  {
   "cell_type": "code",
   "execution_count": null,
   "id": "00eb8990",
   "metadata": {},
   "outputs": [],
   "source": [
    "\n",
    "sns.set_style(\"whitegrid\")\n",
    "\n",
    "# Map 'Sex' to categorical values\n",
    "df[\"Sex\"] = df[\"Sex\"].map({\"male\": 0, \"female\": 1})\n",
    "\n",
    "# Plot survival rate by gender\n",
    "plt.figure(figsize=(6, 4))\n",
    "sns.barplot(x=\"Sex\", y=\"Survived\", data=df, palette=\"coolwarm\")\n",
    "plt.title(\"Survival Rate by Gender\")\n",
    "plt.ylabel(\"Survival Probability\")\n",
    "plt.show()\n"
   ]
  },
  {
   "cell_type": "code",
   "execution_count": null,
   "id": "67a66d07",
   "metadata": {},
   "outputs": [],
   "source": []
  },
  {
   "cell_type": "markdown",
   "id": "7b2976b4",
   "metadata": {},
   "source": [
    "### Survival Rate by Ticket Class"
   ]
  },
  {
   "cell_type": "code",
   "execution_count": null,
   "id": "0e0654dd",
   "metadata": {},
   "outputs": [],
   "source": [
    "\n",
    "# Plot survival rate by ticket class\n",
    "plt.figure(figsize=(6, 4))\n",
    "sns.barplot(x=\"Pclass\", y=\"Survived\", data=df, palette=\"viridis\")\n",
    "plt.title(\"Survival Rate by Ticket Class\")\n",
    "plt.xlabel(\"Passenger Class\")\n",
    "plt.ylabel(\"Survival Probability\")\n",
    "plt.show()\n"
   ]
  },
  {
   "cell_type": "markdown",
   "id": "365ed385",
   "metadata": {},
   "source": [
    "### Age Distribution & Survival"
   ]
  },
  {
   "cell_type": "code",
   "execution_count": null,
   "id": "956c8641",
   "metadata": {},
   "outputs": [],
   "source": [
    "\n",
    "# Plot age distribution with survival overlay\n",
    "plt.figure(figsize=(8, 5))\n",
    "sns.histplot(df, x=\"Age\", hue=\"Survived\", bins=30, kde=True, palette={0: \"red\", 1: \"green\"})\n",
    "plt.title(\"Age Distribution by Survival\")\n",
    "plt.xlabel(\"Age\")\n",
    "plt.ylabel(\"Count\")\n",
    "plt.show()\n"
   ]
  },
  {
   "cell_type": "markdown",
   "id": "0cbff05a",
   "metadata": {},
   "source": [
    "### Feature Importance Analysis"
   ]
  },
  {
   "cell_type": "code",
   "execution_count": null,
   "id": "42027c15",
   "metadata": {},
   "outputs": [],
   "source": [
    "\n",
    "# Encode categorical variables\n",
    "df_encoded = df.copy()\n",
    "df_encoded[\"Sex\"] = LabelEncoder().fit_transform(df[\"Sex\"])\n",
    "df_encoded[\"Embarked\"] = LabelEncoder().fit_transform(df[\"Embarked\"])\n",
    "\n",
    "# Select features and target variable\n",
    "features = [\"Pclass\", \"Sex\", \"Age\", \"SibSp\", \"Parch\", \"Fare\", \"Embarked\"]\n",
    "X = df_encoded[features]\n",
    "y = df_encoded[\"Survived\"]\n",
    "\n",
    "# Train a Random Forest model\n",
    "model = RandomForestClassifier(n_estimators=100, random_state=42)\n",
    "model.fit(X, y)\n",
    "\n",
    "# Get feature importances\n",
    "feature_importance = pd.Series(model.feature_importances_, index=features).sort_values(ascending=False)\n",
    "\n",
    "# Plot feature importance\n",
    "plt.figure(figsize=(8, 5))\n",
    "sns.barplot(x=feature_importance.values, y=feature_importance.index, palette=\"coolwarm\")\n",
    "plt.title(\"Feature Importance in Predicting Survival\")\n",
    "plt.xlabel(\"Importance Score\")\n",
    "plt.show()\n"
   ]
  }
 ],
 "metadata": {
  "language_info": {
   "name": "python"
  }
 },
 "nbformat": 4,
 "nbformat_minor": 5
}
